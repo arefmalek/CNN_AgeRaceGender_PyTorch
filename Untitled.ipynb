{
 "cells": [
  {
   "cell_type": "code",
   "execution_count": 28,
   "metadata": {},
   "outputs": [
    {
     "ename": "SyntaxError",
     "evalue": "invalid syntax (<ipython-input-28-e5b10cfbdb8a>, line 1)",
     "output_type": "error",
     "traceback": [
      "\u001b[0;36m  File \u001b[0;32m\"<ipython-input-28-e5b10cfbdb8a>\"\u001b[0;36m, line \u001b[0;32m1\u001b[0m\n\u001b[0;31m    curl -X POST \\\u001b[0m\n\u001b[0m            ^\u001b[0m\n\u001b[0;31mSyntaxError\u001b[0m\u001b[0;31m:\u001b[0m invalid syntax\n"
     ]
    }
   ],
   "source": [
    "curl -X POST \\\n",
    "  -H 'authorization: Key 27dbcb9920e24e7f974dff675a25ddee' \\\n",
    "  -H 'content-type: application/json' \\\n",
    "  -d '{\n",
    "    \"inputs\": [\n",
    "        {\n",
    "          \"data\": {\n",
    "            \"image\": {\n",
    "              \"url\": \"https://samples.clarifai.com/metro-north.jpg\"\n",
    "          }\n",
    "        }\n",
    "      }\n",
    "    ]\n",
    "}' \\\n",
    "https://api.clarifai.com/v2/workflows/Demographics/results"
   ]
  },
  {
   "cell_type": "code",
   "execution_count": 6,
   "metadata": {},
   "outputs": [],
   "source": [
    "import requests\n",
    "import json\n",
    "\n",
    "clarafai = 'https://api.clarifai.com/v2/workflows/Demographics/results'\n",
    "\n",
    "headers = {\n",
    "    \"authorization\": \"Key 27dbcb9920e24e7f974dff675a25ddee\",\n",
    "    \"content-type\": \"application/json\"\n",
    "}\n",
    "image_url = \"https://preview.redd.it/1itxgjudfk061.jpg?width=640&crop=smart&auto=webp&s=1a82935fdfb5cc506ef2015e22be49978c529e99\"\n",
    "myobj = {\n",
    "    \"inputs\": [\n",
    "        {\n",
    "          \"data\": {\n",
    "            \"image\": {\n",
    "              \"url\": image_url\n",
    "          }\n",
    "        }\n",
    "      }\n",
    "    ]\n",
    "}\n",
    "\n",
    "x = requests.post(clarafai, data = json.dumps(myobj), headers = headers)\n",
    "v = json.loads(x.text)\n",
    "\n",
    "race = v[\"results\"][0][\"outputs\"][2][\"data\"][\"regions\"][0][\"data\"][\"concepts\"]\n",
    "gender = v[\"results\"][0][\"outputs\"][3][\"data\"][\"regions\"][0][\"data\"][\"concepts\"]\n",
    "age = v[\"results\"][0][\"outputs\"][4][\"data\"][\"regions\"][0][\"data\"][\"concepts\"]"
   ]
  },
  {
   "cell_type": "code",
   "execution_count": 7,
   "metadata": {},
   "outputs": [
    {
     "name": "stdout",
     "output_type": "stream",
     "text": [
      "[{'id': 'ai_HQBNrsQF', 'name': 'Middle Eastern', 'value': 0.6112796, 'app_id': 'main'}, {'id': 'ai_wRdd0JFh', 'name': 'White', 'value': 0.2679189, 'app_id': 'main'}, {'id': 'ai_l7P4N9H3', 'name': 'Latino_Hispanic', 'value': 0.1083371, 'app_id': 'main'}, {'id': 'ai_wB5DLwCQ', 'name': 'Indian', 'value': 0.009949858, 'app_id': 'main'}, {'id': 'ai_Z9rhv1Wb', 'name': 'Southeast Asian', 'value': 0.0014030122, 'app_id': 'main'}, {'id': 'ai_H3Z5TwPR', 'name': 'East Asian', 'value': 0.00091956824, 'app_id': 'main'}, {'id': 'ai_zcm624Hj', 'name': 'Black', 'value': 0.00019194129, 'app_id': 'main'}]\n",
      "[{'id': 'ai_SVmv3PD5', 'name': 'Feminine', 'value': 0.99695826, 'app_id': 'main'}, {'id': 'ai_cbW8nSHQ', 'name': 'Masculine', 'value': 0.0030417412, 'app_id': 'main'}]\n",
      "[{'id': 'ai_q4X20Gr3', 'name': '20-29', 'value': 0.5926271, 'app_id': 'main'}, {'id': 'ai_mVkkkXl5', 'name': '10-19', 'value': 0.36893985, 'app_id': 'main'}, {'id': 'ai_mXrVvZH9', 'name': '30-39', 'value': 0.029312076, 'app_id': 'main'}, {'id': 'ai_HZ1FxBbs', 'name': '3-9', 'value': 0.008284053, 'app_id': 'main'}, {'id': 'ai_gXF2jDsQ', 'name': '40-49', 'value': 0.0008252795, 'app_id': 'main'}, {'id': 'ai_NsrxQ4g9', 'name': '0-2', 'value': 6.033548e-06, 'app_id': 'main'}, {'id': 'ai_j72vvqzX', 'name': '50-59', 'value': 4.987639e-06, 'app_id': 'main'}, {'id': 'ai_thZGSK6k', 'name': '60-69', 'value': 5.7034845e-07, 'app_id': 'main'}, {'id': 'ai_RJ64mhdd', 'name': 'more than 70', 'value': 1.2380442e-08, 'app_id': 'main'}]\n"
     ]
    }
   ],
   "source": [
    "print(race)\n",
    "print(gender)\n",
    "print(age)"
   ]
  },
  {
   "cell_type": "code",
   "execution_count": 74,
   "metadata": {},
   "outputs": [
    {
     "name": "stdout",
     "output_type": "stream",
     "text": [
      "face-detector\n",
      "{'id': '3b9336c49e404410b7b99b2ebb5fb451', 'status': {'code': 10000, 'description': 'Ok'}, 'created_at': '2021-02-20T22:42:57.073790828Z', 'model': {'id': '6c276d1ee3cac072fad9d6d850b4a429', 'name': 'face-detector', 'created_at': '2020-06-29T15:43:15.596987Z', 'app_id': 'main', 'output_info': {'output_config': {'concepts_mutually_exclusive': False, 'closed_environment': False, 'max_concepts': 0, 'min_value': 0}, 'message': 'Show output_info with: GET /models/{model_id}/output_info', 'type': 'detect-concept', 'type_ext': 'detect-concept', 'fields_map': {'regions[...].data.concepts[...].id': 'predicted_det_labels', 'regions[...].data.concepts[...].value': 'predicted_det_scores', 'regions[...].region_info.bounding_box': 'predicted_det_bboxes'}, 'params': {'detection_threshold': 0.9}}, 'model_version': {'id': '45fb9a671625463fa646c3523a3087d5', 'created_at': '2020-06-29T17:13:46.944080Z', 'status': {'code': 21100, 'description': 'Model is trained and ready'}}, 'input_info': {'fields_map': {'image': 'images'}}, 'train_info': {}, 'model_type_id': 'visual-detector'}}\n",
      "\n",
      "1.1 Cropper\n",
      "{'id': 'da94d1b85acf42939b643fc333b80468', 'status': {'code': 10000, 'description': 'Ok'}, 'created_at': '2021-02-20T22:42:57.074782269Z', 'model': {'id': '3ed1aff251be4fe59c2bbaff0bb2e797', 'name': '1.1 Cropper', 'created_at': '2020-05-26T15:01:38.387731Z', 'app_id': 'main', 'output_info': {'output_config': {'concepts_mutually_exclusive': False, 'closed_environment': False, 'max_concepts': 0, 'min_value': 0}, 'message': 'Show output_info with: GET /models/{model_id}/output_info', 'type': 'image-crop', 'type_ext': 'image-crop', 'params': {'margin': 1.1}}, 'model_version': {'id': 'b9987421b40a46649566826ef9325303', 'created_at': '2020-05-26T15:01:38.387731Z', 'status': {'code': 21100, 'description': 'Model is trained and ready'}}, 'input_info': {}, 'train_info': {}, 'model_type_id': 'image-crop'}}\n",
      "\n",
      "multicultural-appearance\n",
      "{'id': 'ddcf98a5ba5b455299ea76019ce55f59', 'status': {'code': 10000, 'description': 'Ok'}, 'created_at': '2021-02-20T22:42:57.075752567Z', 'model': {'id': '93c277ec3940fba661491fda4d3ccfa0', 'name': 'multicultural-appearance', 'created_at': '2020-07-13T18:29:30.251137Z', 'app_id': 'main', 'output_info': {'output_config': {'concepts_mutually_exclusive': False, 'closed_environment': False, 'max_concepts': 0, 'min_value': 0}, 'message': 'Show output_info with: GET /models/{model_id}/output_info', 'type': 'concept', 'type_ext': 'concept', 'fields_map': {'concepts': 'softmax'}}, 'model_version': {'id': 'b2897edbda314615856039fb0c489796', 'created_at': '2020-07-20T18:54:12.737304Z', 'status': {'code': 21100, 'description': 'Model successfully uploaded and is now ready for inferencing'}}, 'display_name': 'Multicultural Appearance', 'input_info': {'fields_map': {'image': 'images'}}, 'train_info': {}, 'model_type_id': 'visual-classifier'}, 'data': {'regions': [{'id': 'bskexxmcrtm0', 'region_info': {'bounding_box': {'top_row': 0.5005046, 'left_col': 0.6615281, 'bottom_row': 0.5237079, 'right_col': 0.6750625}}, 'data': {'concepts': [{'id': 'ai_H3Z5TwPR', 'name': 'East Asian', 'value': 0.3325512, 'app_id': 'main'}, {'id': 'ai_Z9rhv1Wb', 'name': 'Southeast Asian', 'value': 0.3007523, 'app_id': 'main'}, {'id': 'ai_l7P4N9H3', 'name': 'Latino_Hispanic', 'value': 0.16761877, 'app_id': 'main'}, {'id': 'ai_zcm624Hj', 'name': 'Black', 'value': 0.10191381, 'app_id': 'main'}, {'id': 'ai_wB5DLwCQ', 'name': 'Indian', 'value': 0.03394124, 'app_id': 'main'}, {'id': 'ai_HQBNrsQF', 'name': 'Middle Eastern', 'value': 0.033188608, 'app_id': 'main'}, {'id': 'ai_wRdd0JFh', 'name': 'White', 'value': 0.030033985, 'app_id': 'main'}]}}]}}\n",
      "\n",
      "gender-appearance\n",
      "{'id': '71df8af56350403f97d8de100e4ed148', 'status': {'code': 10000, 'description': 'Ok'}, 'created_at': '2021-02-20T22:42:57.076737398Z', 'model': {'id': 'af40a692dfe6040f23ca656f4e144fc2', 'name': 'gender-appearance', 'created_at': '2020-07-13T17:59:31.633958Z', 'app_id': 'main', 'output_info': {'output_config': {'concepts_mutually_exclusive': False, 'closed_environment': False, 'max_concepts': 0, 'min_value': 0}, 'message': 'Show output_info with: GET /models/{model_id}/output_info', 'type': 'concept', 'type_ext': 'concept', 'fields_map': {'concepts': 'softmax'}}, 'model_version': {'id': 'ff83d5baac004aafbe6b372ffa6f8227', 'created_at': '2020-07-20T19:05:29.698518Z', 'status': {'code': 21100, 'description': 'Model successfully uploaded and is now ready for inferencing'}}, 'display_name': 'Gender Appearance', 'input_info': {'fields_map': {'image': 'images'}}, 'train_info': {}, 'model_type_id': 'visual-classifier'}, 'data': {'regions': [{'id': 'bskexxmcrtm0', 'region_info': {'bounding_box': {'top_row': 0.5005046, 'left_col': 0.6615281, 'bottom_row': 0.5237079, 'right_col': 0.6750625}}, 'data': {'concepts': [{'id': 'ai_cbW8nSHQ', 'name': 'Masculine', 'value': 0.5235819, 'app_id': 'main'}, {'id': 'ai_SVmv3PD5', 'name': 'Feminine', 'value': 0.47641802, 'app_id': 'main'}]}}]}}\n",
      "\n",
      "age-appearance\n",
      "{'id': '9d1c052c30b64e56bc9da019a881eed8', 'status': {'code': 10000, 'description': 'Ok'}, 'created_at': '2021-02-20T22:42:57.077594141Z', 'model': {'id': '36f90889189ad96c516d134bc713004d', 'name': 'age-appearance', 'created_at': '2020-07-13T15:19:28.115015Z', 'app_id': 'main', 'output_info': {'output_config': {'concepts_mutually_exclusive': False, 'closed_environment': False, 'max_concepts': 0, 'min_value': 0}, 'message': 'Show output_info with: GET /models/{model_id}/output_info', 'type': 'concept', 'type_ext': 'concept', 'fields_map': {'concepts': 'softmax'}}, 'model_version': {'id': 'fb9f10339ac14e23b8e960e74984401b', 'created_at': '2020-07-20T18:59:36.517193Z', 'status': {'code': 21100, 'description': 'Model successfully uploaded and is now ready for inferencing'}}, 'display_name': 'Age Appearance', 'input_info': {'fields_map': {'image': 'images'}}, 'train_info': {}, 'model_type_id': 'visual-classifier'}, 'data': {'regions': [{'id': 'bskexxmcrtm0', 'region_info': {'bounding_box': {'top_row': 0.5005046, 'left_col': 0.6615281, 'bottom_row': 0.5237079, 'right_col': 0.6750625}}, 'data': {'concepts': [{'id': 'ai_HZ1FxBbs', 'name': '3-9', 'value': 0.5697277, 'app_id': 'main'}, {'id': 'ai_mVkkkXl5', 'name': '10-19', 'value': 0.1316504, 'app_id': 'main'}, {'id': 'ai_q4X20Gr3', 'name': '20-29', 'value': 0.093832664, 'app_id': 'main'}, {'id': 'ai_mXrVvZH9', 'name': '30-39', 'value': 0.06965384, 'app_id': 'main'}, {'id': 'ai_gXF2jDsQ', 'name': '40-49', 'value': 0.061590623, 'app_id': 'main'}, {'id': 'ai_NsrxQ4g9', 'name': '0-2', 'value': 0.034323283, 'app_id': 'main'}, {'id': 'ai_j72vvqzX', 'name': '50-59', 'value': 0.023521664, 'app_id': 'main'}, {'id': 'ai_thZGSK6k', 'name': '60-69', 'value': 0.013866768, 'app_id': 'main'}, {'id': 'ai_RJ64mhdd', 'name': 'more than 70', 'value': 0.0018330879, 'app_id': 'main'}]}}]}}\n",
      "\n"
     ]
    }
   ],
   "source": [
    "for model in v[\"results\"][0][\"outputs\"]:\n",
    "    print(model[\"model\"][\"name\"])\n",
    "    print(model)\n",
    "    print()"
   ]
  },
  {
   "cell_type": "code",
   "execution_count": 1,
   "metadata": {},
   "outputs": [],
   "source": [
    "from clarifai_grpc.channel.clarifai_channel import ClarifaiChannel\n",
    "from clarifai_grpc.grpc.api import service_pb2_grpc\n",
    "\n",
    "stub = service_pb2_grpc.V2Stub(ClarifaiChannel.get_grpc_channel())"
   ]
  },
  {
   "cell_type": "code",
   "execution_count": 22,
   "metadata": {},
   "outputs": [
    {
     "name": "stdout",
     "output_type": "stream",
     "text": [
      "Predicted concepts for the model `general`\n",
      "\tmusic 1.00\n",
      "\tconcert 1.00\n",
      "\tperformance 0.99\n",
      "\tmusician 0.99\n",
      "\tpeople 0.99\n",
      "\tsinger 0.99\n",
      "\tfestival 0.98\n",
      "\tportrait 0.97\n",
      "\tmicrophone 0.94\n",
      "\tstage 0.94\n",
      "\tadult 0.93\n",
      "\tone 0.92\n",
      "\tinstrument 0.91\n",
      "\tband 0.90\n",
      "\tguitar 0.88\n",
      "\tguitarist 0.85\n",
      "\tman 0.84\n",
      "\treggae 0.79\n",
      "\tlight 0.79\n",
      "\twear 0.75\n",
      "Predicted concepts for the model `general`\n",
      "Predicted concepts for the model `general`\n"
     ]
    }
   ],
   "source": [
    "from clarifai_grpc.grpc.api import service_pb2, resources_pb2\n",
    "from clarifai_grpc.grpc.api.status import status_code_pb2\n",
    "\n",
    "# This is how you authenticate.\n",
    "metadata = (('authorization', 'Key 27dbcb9920e24e7f974dff675a25ddee'),)\n",
    "\n",
    "request = service_pb2.PostWorkflowResultsRequest(\n",
    "    # This is the model ID of a publicly available General model. You may use any other public or custom model ID.\n",
    "    workflow_id=\"General\",\n",
    "    inputs=[\n",
    "      resources_pb2.Input(data=resources_pb2.Data(image=resources_pb2.Image(url='https://external-content.duckduckgo.com/iu/?u=https%3A%2F%2Fmedia4.s-nbcnews.com%2Fj%2Fnewscms%2F2017_11%2F1938031%2F170319-chuck-berry-630p_eb9446454fd2c2b9389a785666d9cedb.nbcnews-fp-1200-800.jpg&f=1&nofb=1')))\n",
    "    ])\n",
    "response = stub.PostWorkflowResults(request, metadata=metadata)\n",
    "\n",
    "if response.status.code != status_code_pb2.SUCCESS:\n",
    "    raise Exception(\"Request failed, status code: \" + str(response.status.code))\n",
    "\n",
    "# for concept in response.results[0].outputs[0].data.concepts:\n",
    "#     print('%12s: %.2f' % (concept.name, concept.value))\n",
    "\n",
    "for output in response.results[0].outputs:\n",
    "    model = output.model\n",
    "\n",
    "    print(\"Predicted concepts for the model `%s`\" % model.name)\n",
    "    for concept in output.data.concepts:\n",
    "        print(\"\\t%s %.2f\" % (concept.name, concept.value))    "
   ]
  },
  {
   "cell_type": "code",
   "execution_count": 29,
   "metadata": {},
   "outputs": [
    {
     "name": "stdout",
     "output_type": "stream",
     "text": [
      "Predicted concepts for the model `face-detector`\n",
      "Predicted concepts for the model `1.1 Cropper`\n",
      "Predicted concepts for the model `multicultural-appearance`\n",
      "Predicted concepts for the model `gender-appearance`\n",
      "Predicted concepts for the model `age-appearance`\n"
     ]
    }
   ],
   "source": [
    "# Insert here the initialization code as outlined on this page:\n",
    "# https://docs.clarifai.com/api-guide/api-overview/api-clients#client-installation-instructions\n",
    "\n",
    "post_workflow_results_response = stub.PostWorkflowResults(\n",
    "    service_pb2.PostWorkflowResultsRequest(\n",
    "        workflow_id=\"Demographics\",\n",
    "        inputs=[\n",
    "            resources_pb2.Input(\n",
    "                data=resources_pb2.Data(\n",
    "                    image=resources_pb2.Image(\n",
    "                        url=\"https://samples.clarifai.com/metro-north.jpg\"\n",
    "                    )\n",
    "                )\n",
    "            )\n",
    "        ]\n",
    "    ),\n",
    "    metadata=metadata\n",
    ")\n",
    "if post_workflow_results_response.status.code != status_code_pb2.SUCCESS:\n",
    "    raise Exception(\"Post workflow results failed, status: \" + post_workflow_results_response.status.description)\n",
    "\n",
    "# We'll get one WorkflowResult for each input we used above. Because of one input, we have here\n",
    "# one WorkflowResult.\n",
    "results = post_workflow_results_response.results[0]\n",
    "\n",
    "# Each model we have in the workflow will produce one output.\n",
    "for output in results.outputs:\n",
    "    model = output.model\n",
    "\n",
    "    print(\"Predicted concepts for the model `%s`\" % model.name)\n",
    "    for concept in output.data.concepts:\n",
    "        print(\"\\t%s %.2f\" % (concept.name, concept.value))"
   ]
  }
 ],
 "metadata": {
  "kernelspec": {
   "display_name": "Python 3",
   "language": "python",
   "name": "python3"
  },
  "language_info": {
   "codemirror_mode": {
    "name": "ipython",
    "version": 3
   },
   "file_extension": ".py",
   "mimetype": "text/x-python",
   "name": "python",
   "nbconvert_exporter": "python",
   "pygments_lexer": "ipython3",
   "version": "3.8.6"
  }
 },
 "nbformat": 4,
 "nbformat_minor": 4
}
